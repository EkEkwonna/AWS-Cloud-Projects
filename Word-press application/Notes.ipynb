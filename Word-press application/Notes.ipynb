{
 "cells": [
  {
   "cell_type": "markdown",
   "metadata": {},
   "source": []
  },
  {
   "cell_type": "markdown",
   "metadata": {},
   "source": [
    "For this project we aim to use the EC2 Instance Connect End Point to connect to resources in the VPC (Virtual Private Cloud) using the AWS CLI. Once set up an IAM User will be created with programmatic access which will be configured to our computer. This will allow us to use the EC2 Instance connect endpoint to connect to resources in the private subnet and the public subnet of our VPC using AWS CLI"
   ]
  },
  {
   "cell_type": "code",
   "execution_count": null,
   "metadata": {
    "vscode": {
     "languageId": "plaintext"
    }
   },
   "outputs": [],
   "source": [
    "Requirements: \n",
    "- homebrew \n",
    "- iterm2\n",
    "- AWS CLI"
   ]
  },
  {
   "cell_type": "markdown",
   "metadata": {},
   "source": [
    "AWS - IAMS \n",
    "(Creating new Administrative Access User)\n",
    "\n",
    "We're going to create an administrative Access User Using the following steps: \n",
    "1. Create User\n",
    "\n",
    "<img src=\"Images/UsersSelect.png\" alt=\"Drawing\" style=\"width: 300px;\"/>\n",
    "\n",
    "![CreateUser](Images/CreateUser.png)\n",
    "\n",
    "2. Once created Attach required policies: \n",
    "![UserName](Images/UserName.png)\n",
    "![AttachPolicies](Images/AttachPolicies.png)\n",
    "\n",
    "Creating Secret Access Key for the IAM User \n",
    "![ClickUser](Images/ClickUser.png)\n",
    "![CreateAccessKey](Images/CreateAccessKey.png)\n",
    "![CLIAttribute](Images/CLIAttribute.png)\n",
    "![AccessKeyShow](Images/AccessKeyShow.png)\n"
   ]
  }
 ],
 "metadata": {
  "language_info": {
   "name": "python"
  }
 },
 "nbformat": 4,
 "nbformat_minor": 2
}
