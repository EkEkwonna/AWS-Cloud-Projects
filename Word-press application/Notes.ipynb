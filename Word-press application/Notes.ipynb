{
 "cells": [
  {
   "cell_type": "markdown",
   "metadata": {},
   "source": []
  },
  {
   "cell_type": "markdown",
   "metadata": {},
   "source": [
    "For this project we aim to use the EC2 Instance Connect End Point to connect to resources in the VPC (Virtual Private Cloud) using the AWS CLI. Once set up an IAM User will be created with programmatic access which will be configured to our computer. This will allow us to use the EC2 Instance connect endpoint to connect to resources in the private subnet and the public subnet of our VPC using AWS CLI"
   ]
  },
  {
   "cell_type": "code",
   "execution_count": null,
   "metadata": {
    "vscode": {
     "languageId": "plaintext"
    }
   },
   "outputs": [],
   "source": [
    "Requirements: \n",
    "- homebrew \n",
    "- iterm2\n",
    "- AWS CLI"
   ]
  },
  {
   "cell_type": "markdown",
   "metadata": {},
   "source": [
    "AWS - IAMS \n",
    "(Creating new Administrative Access User)\n",
    "\n",
    "We're going to create an administrative Access User Using the following steps: \n",
    "1. Create User\n",
    "\n",
    "<table style=\"border-style:hidden;border-collapse:collapse;\"><tr>\n",
    "<td> <img src=\"Images/UsersSelect.png\" alt=\"Drawing\" style=\"width: 150px;\"/> </td>\n",
    "<td> <img src=\"Images/CreateUser.png\" alt=\"Drawing\" style=\"width: 600px;\"/> </td>\n",
    "</tr></table>\n",
    "\n",
    "2. Once created Attach required policies: \n",
    "![Image 3](Images/UserName.png)\n",
    "![Image 4](Images/AttachPolicies.png)\n",
    "\n",
    "\n",
    "https://www.aosnote.com/products/host-a-wordpress-website-on-aws/categories/2154838020/posts/2175496643"
   ]
  }
 ],
 "metadata": {
  "language_info": {
   "name": "python"
  }
 },
 "nbformat": 4,
 "nbformat_minor": 2
}
