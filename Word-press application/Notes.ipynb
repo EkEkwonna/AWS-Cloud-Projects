{
 "cells": [
  {
   "cell_type": "markdown",
   "metadata": {},
   "source": []
  },
  {
   "cell_type": "markdown",
   "metadata": {},
   "source": [
    "For this project we aim to use the EC2 Instance Connect End Point to connect to resources in the VPC (Virtual Private Cloud) using the AWS CLI. Once set up an IAM User will be created with programmatic access which will be configured to our computer. This will allow us to use the EC2 Instance connect endpoint to connect to resources in the private subnet and the public subnet of our VPC using AWS CLI"
   ]
  },
  {
   "cell_type": "code",
   "execution_count": null,
   "metadata": {
    "vscode": {
     "languageId": "plaintext"
    }
   },
   "outputs": [],
   "source": [
    "Requirements: \n",
    "- homebrew \n",
    "- iterm2\n",
    "- AWS CLI"
   ]
  },
  {
   "cell_type": "markdown",
   "metadata": {},
   "source": [
    "AWS - IAMS \n",
    "(Creating new Administrative Access User)\n",
    "\n",
    "We're going to create an administrative Access User Using the following steps: \n",
    "1. Create User\n",
    "\n",
    "<img src=\"Images/UsersSelect.png\" alt=\"Drawing\" style=\"width: 300px;\"/>\n",
    "\n",
    "![CreateUser](Images/CreateUser.png)\n",
    "\n",
    "2. Once created Attach required policies: \n",
    "![UserName](Images/UserName.png)\n",
    "![AttachPolicies](Images/AttachPolicies.png)\n",
    "\n",
    "Creating Secret Access Key for the IAM User \n",
    "![ClickUser](Images/ClickUser.png)\n",
    "![CreateAccessKey](Images/CreateAccessKey.png)\n",
    "![CLIAttribute](Images/CLIAttribute.png)\n",
    "![AccessKeyShow](Images/AccessKeyShow.png)\n",
    "\n",
    "Configuring user's access Key ID and secret access key on the computer to use the AWS CLI and EC2 Instance to connect to any resources in the VPC"
   ]
  },
  {
   "cell_type": "markdown",
   "metadata": {},
   "source": [
    "\n",
    "On Terminal: \n",
    "\n",
    "aws configure\n",
    "\n",
    "It will request for the access Key \n",
    "\n",
    "![aws configure](Images/awsConfigure.png)\n",
    "\n",
    "Credentials can be found in AWS folder \n",
    "on terminal \n",
    "\n",
    "> cd \n",
    "> ls -a (for hidden folder to be revealed as well)\n",
    "\n",
    "after inputting credentials AWS creates a directory .aws and store credentials in there\n",
    "\n",
    "\n",
    ">cd .aws\n",
    "\n",
    "will show us there's 2 files the credentials file and the config file \n",
    "to view inside the config file \n",
    "\n",
    ">cat config\n",
    "[default]\n",
    "region = eu-west-2\n",
    "\n",
    "We can see the configuration has created a default where the region has been stored"
   ]
  }
 ],
 "metadata": {
  "language_info": {
   "name": "python"
  }
 },
 "nbformat": 4,
 "nbformat_minor": 2
}
